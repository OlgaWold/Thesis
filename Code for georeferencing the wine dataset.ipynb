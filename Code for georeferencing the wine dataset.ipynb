{
 "cells": [
  {
   "cell_type": "code",
   "execution_count": null,
   "metadata": {},
   "outputs": [],
   "source": [
    "#Georeference\n",
    "\n",
    "df=pd.read_csv(new_path_with_cleaned_data)\n",
    "df[\"lat\"]=0.0\n",
    "df[\"long\"]=0.0\n",
    "import geocoder\n",
    "for i in range(1,len(df)) :\n",
    "    req =req = str(df.iloc[i]['col_name1']) + ',' + str(df.iloc[i]['col_name2]) + ',' + str(df.iloc[i]['col_name3'])\n",
    "    g = geocoder.google(req, key='Google_API_key')\n",
    "    if(g.latlng):\n",
    "        df.set_value(i,'lat',g.latlng[0])\n",
    "        df.set_value(i,'long',g.latlng[1])\n"
   ]
  }
 ],
 "metadata": {
  "kernelspec": {
   "display_name": "Python 3",
   "language": "python",
   "name": "python3"
  },
  "language_info": {
   "codemirror_mode": {
    "name": "ipython",
    "version": 3
   },
   "file_extension": ".py",
   "mimetype": "text/x-python",
   "name": "python",
   "nbconvert_exporter": "python",
   "pygments_lexer": "ipython3",
   "version": "3.7.4"
  }
 },
 "nbformat": 4,
 "nbformat_minor": 2
}
